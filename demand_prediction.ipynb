{
 "cells": [
  {
   "cell_type": "code",
   "execution_count": 1,
   "metadata": {},
   "outputs": [],
   "source": [
    "import pandas as pd\n",
    "import numpy as np\n",
    "import matplotlib.pyplot as plt\n",
    "import seaborn as sns\n",
    "\n",
    "from sklearn.ensemble import RandomForestRegressor\n",
    "pd.set_option('display.max_columns', None)"
   ]
  },
  {
   "cell_type": "code",
   "execution_count": 23,
   "metadata": {},
   "outputs": [
    {
     "name": "stderr",
     "output_type": "stream",
     "text": [
      "/var/folders/1w/nb8zzzyd2b19zfmmnsf651j00000gn/T/ipykernel_86909/60106925.py:1: DtypeWarning: Columns (4) have mixed types. Specify dtype option on import or set low_memory=False.\n",
      "  ridership = pd.read_csv('data/ridership_detail.csv')\n"
     ]
    },
    {
     "data": {
      "text/html": [
       "<div>\n",
       "<style scoped>\n",
       "    .dataframe tbody tr th:only-of-type {\n",
       "        vertical-align: middle;\n",
       "    }\n",
       "\n",
       "    .dataframe tbody tr th {\n",
       "        vertical-align: top;\n",
       "    }\n",
       "\n",
       "    .dataframe thead th {\n",
       "        text-align: right;\n",
       "    }\n",
       "</style>\n",
       "<table border=\"1\" class=\"dataframe\">\n",
       "  <thead>\n",
       "    <tr style=\"text-align: right;\">\n",
       "      <th></th>\n",
       "      <th>transit_timestamp</th>\n",
       "      <th>station_complex_id</th>\n",
       "      <th>station_complex</th>\n",
       "      <th>borough</th>\n",
       "      <th>routes</th>\n",
       "      <th>payment_method</th>\n",
       "      <th>ridership</th>\n",
       "      <th>transfers</th>\n",
       "      <th>latitude</th>\n",
       "      <th>longitude</th>\n",
       "      <th>Georeference</th>\n",
       "      <th>itsuid</th>\n",
       "      <th>date</th>\n",
       "      <th>year</th>\n",
       "      <th>month</th>\n",
       "      <th>day</th>\n",
       "      <th>weekday</th>\n",
       "      <th>week</th>\n",
       "      <th>quarter</th>\n",
       "      <th>hour</th>\n",
       "      <th>year-month</th>\n",
       "      <th>year-week</th>\n",
       "    </tr>\n",
       "  </thead>\n",
       "  <tbody>\n",
       "    <tr>\n",
       "      <th>0</th>\n",
       "      <td>2022-08-04 04:00:00</td>\n",
       "      <td>H007</td>\n",
       "      <td>1 Av (L)</td>\n",
       "      <td>M</td>\n",
       "      <td>L</td>\n",
       "      <td>omny</td>\n",
       "      <td>11</td>\n",
       "      <td>0</td>\n",
       "      <td>40.730953</td>\n",
       "      <td>-73.981628</td>\n",
       "      <td>POINT (-73.98162841796875 40.730953216552734)</td>\n",
       "      <td>2022-08-04T04:00:00H0071 Av (L)MLomny</td>\n",
       "      <td>2022-08-04</td>\n",
       "      <td>2022</td>\n",
       "      <td>8</td>\n",
       "      <td>4</td>\n",
       "      <td>3</td>\n",
       "      <td>31</td>\n",
       "      <td>3</td>\n",
       "      <td>4</td>\n",
       "      <td>2022-08</td>\n",
       "      <td>2022-08-01/2022-08-07</td>\n",
       "    </tr>\n",
       "    <tr>\n",
       "      <th>1</th>\n",
       "      <td>2023-02-13 03:00:00</td>\n",
       "      <td>H007</td>\n",
       "      <td>1 Av (L)</td>\n",
       "      <td>M</td>\n",
       "      <td>L</td>\n",
       "      <td>omny</td>\n",
       "      <td>10</td>\n",
       "      <td>0</td>\n",
       "      <td>40.730953</td>\n",
       "      <td>-73.981628</td>\n",
       "      <td>POINT (-73.98162841796875 40.730953216552734)</td>\n",
       "      <td>2023-02-13T03:00:00H0071 Av (L)MLomny</td>\n",
       "      <td>2023-02-13</td>\n",
       "      <td>2023</td>\n",
       "      <td>2</td>\n",
       "      <td>13</td>\n",
       "      <td>0</td>\n",
       "      <td>7</td>\n",
       "      <td>1</td>\n",
       "      <td>3</td>\n",
       "      <td>2023-02</td>\n",
       "      <td>2023-02-13/2023-02-19</td>\n",
       "    </tr>\n",
       "    <tr>\n",
       "      <th>2</th>\n",
       "      <td>2023-03-08 04:00:00</td>\n",
       "      <td>H007</td>\n",
       "      <td>1 Av (L)</td>\n",
       "      <td>M</td>\n",
       "      <td>L</td>\n",
       "      <td>omny</td>\n",
       "      <td>4</td>\n",
       "      <td>0</td>\n",
       "      <td>40.730953</td>\n",
       "      <td>-73.981628</td>\n",
       "      <td>POINT (-73.98162841796875 40.730953216552734)</td>\n",
       "      <td>2023-03-08T04:00:00H0071 Av (L)MLomny</td>\n",
       "      <td>2023-03-08</td>\n",
       "      <td>2023</td>\n",
       "      <td>3</td>\n",
       "      <td>8</td>\n",
       "      <td>2</td>\n",
       "      <td>10</td>\n",
       "      <td>1</td>\n",
       "      <td>4</td>\n",
       "      <td>2023-03</td>\n",
       "      <td>2023-03-06/2023-03-12</td>\n",
       "    </tr>\n",
       "    <tr>\n",
       "      <th>3</th>\n",
       "      <td>2023-03-23 03:00:00</td>\n",
       "      <td>H007</td>\n",
       "      <td>1 Av (L)</td>\n",
       "      <td>M</td>\n",
       "      <td>L</td>\n",
       "      <td>omny</td>\n",
       "      <td>10</td>\n",
       "      <td>0</td>\n",
       "      <td>40.730953</td>\n",
       "      <td>-73.981628</td>\n",
       "      <td>POINT (-73.98162841796875 40.730953216552734)</td>\n",
       "      <td>2023-03-23T03:00:00H0071 Av (L)MLomny</td>\n",
       "      <td>2023-03-23</td>\n",
       "      <td>2023</td>\n",
       "      <td>3</td>\n",
       "      <td>23</td>\n",
       "      <td>3</td>\n",
       "      <td>12</td>\n",
       "      <td>1</td>\n",
       "      <td>3</td>\n",
       "      <td>2023-03</td>\n",
       "      <td>2023-03-20/2023-03-26</td>\n",
       "    </tr>\n",
       "    <tr>\n",
       "      <th>4</th>\n",
       "      <td>2023-04-03 05:00:00</td>\n",
       "      <td>H007</td>\n",
       "      <td>1 Av (L)</td>\n",
       "      <td>M</td>\n",
       "      <td>L</td>\n",
       "      <td>omny</td>\n",
       "      <td>28</td>\n",
       "      <td>0</td>\n",
       "      <td>40.730953</td>\n",
       "      <td>-73.981628</td>\n",
       "      <td>POINT (-73.98162841796875 40.730953216552734)</td>\n",
       "      <td>2023-04-03T05:00:00H0071 Av (L)MLomny</td>\n",
       "      <td>2023-04-03</td>\n",
       "      <td>2023</td>\n",
       "      <td>4</td>\n",
       "      <td>3</td>\n",
       "      <td>0</td>\n",
       "      <td>14</td>\n",
       "      <td>2</td>\n",
       "      <td>5</td>\n",
       "      <td>2023-04</td>\n",
       "      <td>2023-04-03/2023-04-09</td>\n",
       "    </tr>\n",
       "  </tbody>\n",
       "</table>\n",
       "</div>"
      ],
      "text/plain": [
       "    transit_timestamp station_complex_id station_complex borough routes  \\\n",
       "0 2022-08-04 04:00:00               H007        1 Av (L)       M      L   \n",
       "1 2023-02-13 03:00:00               H007        1 Av (L)       M      L   \n",
       "2 2023-03-08 04:00:00               H007        1 Av (L)       M      L   \n",
       "3 2023-03-23 03:00:00               H007        1 Av (L)       M      L   \n",
       "4 2023-04-03 05:00:00               H007        1 Av (L)       M      L   \n",
       "\n",
       "  payment_method  ridership  transfers   latitude  longitude  \\\n",
       "0           omny         11          0  40.730953 -73.981628   \n",
       "1           omny         10          0  40.730953 -73.981628   \n",
       "2           omny          4          0  40.730953 -73.981628   \n",
       "3           omny         10          0  40.730953 -73.981628   \n",
       "4           omny         28          0  40.730953 -73.981628   \n",
       "\n",
       "                                    Georeference  \\\n",
       "0  POINT (-73.98162841796875 40.730953216552734)   \n",
       "1  POINT (-73.98162841796875 40.730953216552734)   \n",
       "2  POINT (-73.98162841796875 40.730953216552734)   \n",
       "3  POINT (-73.98162841796875 40.730953216552734)   \n",
       "4  POINT (-73.98162841796875 40.730953216552734)   \n",
       "\n",
       "                                  itsuid        date  year  month  day  \\\n",
       "0  2022-08-04T04:00:00H0071 Av (L)MLomny  2022-08-04  2022      8    4   \n",
       "1  2023-02-13T03:00:00H0071 Av (L)MLomny  2023-02-13  2023      2   13   \n",
       "2  2023-03-08T04:00:00H0071 Av (L)MLomny  2023-03-08  2023      3    8   \n",
       "3  2023-03-23T03:00:00H0071 Av (L)MLomny  2023-03-23  2023      3   23   \n",
       "4  2023-04-03T05:00:00H0071 Av (L)MLomny  2023-04-03  2023      4    3   \n",
       "\n",
       "   weekday  week  quarter  hour year-month              year-week  \n",
       "0        3    31        3     4    2022-08  2022-08-01/2022-08-07  \n",
       "1        0     7        1     3    2023-02  2023-02-13/2023-02-19  \n",
       "2        2    10        1     4    2023-03  2023-03-06/2023-03-12  \n",
       "3        3    12        1     3    2023-03  2023-03-20/2023-03-26  \n",
       "4        0    14        2     5    2023-04  2023-04-03/2023-04-09  "
      ]
     },
     "execution_count": 23,
     "metadata": {},
     "output_type": "execute_result"
    }
   ],
   "source": [
    "ridership = pd.read_csv('data/ridership_detail.csv')\n",
    "ridership['transit_timestamp'] = pd.to_datetime(ridership['transit_timestamp'])\n",
    "\n",
    "ridership.head()"
   ]
  },
  {
   "cell_type": "code",
   "execution_count": 24,
   "metadata": {},
   "outputs": [
    {
     "data": {
      "text/plain": [
       "237.82406003788708"
      ]
     },
     "execution_count": 24,
     "metadata": {},
     "output_type": "execute_result"
    }
   ],
   "source": [
    "np.mean(ridership['ridership'])"
   ]
  },
  {
   "cell_type": "code",
   "execution_count": 25,
   "metadata": {},
   "outputs": [
    {
     "data": {
      "text/html": [
       "<div>\n",
       "<style scoped>\n",
       "    .dataframe tbody tr th:only-of-type {\n",
       "        vertical-align: middle;\n",
       "    }\n",
       "\n",
       "    .dataframe tbody tr th {\n",
       "        vertical-align: top;\n",
       "    }\n",
       "\n",
       "    .dataframe thead th {\n",
       "        text-align: right;\n",
       "    }\n",
       "</style>\n",
       "<table border=\"1\" class=\"dataframe\">\n",
       "  <thead>\n",
       "    <tr style=\"text-align: right;\">\n",
       "      <th></th>\n",
       "      <th>transit_timestamp</th>\n",
       "      <th>station_complex_id</th>\n",
       "      <th>station_complex</th>\n",
       "      <th>borough</th>\n",
       "      <th>routes</th>\n",
       "      <th>payment_method</th>\n",
       "      <th>ridership</th>\n",
       "      <th>transfers</th>\n",
       "      <th>latitude</th>\n",
       "      <th>longitude</th>\n",
       "      <th>Georeference</th>\n",
       "      <th>itsuid</th>\n",
       "      <th>date</th>\n",
       "      <th>year</th>\n",
       "      <th>month</th>\n",
       "      <th>day</th>\n",
       "      <th>weekday</th>\n",
       "      <th>week</th>\n",
       "      <th>quarter</th>\n",
       "      <th>hour</th>\n",
       "      <th>year-month</th>\n",
       "      <th>year-week</th>\n",
       "    </tr>\n",
       "  </thead>\n",
       "  <tbody>\n",
       "    <tr>\n",
       "      <th>11050241</th>\n",
       "      <td>2023-09-20 17:00:00</td>\n",
       "      <td>N060</td>\n",
       "      <td>Times Sq-42 St (N,Q,R,W,S,1,2,3,7)/42 St (A,C,...</td>\n",
       "      <td>M</td>\n",
       "      <td>3,C,1,2,S,7,F,M,E,N,R,Q,,B,W,A,D</td>\n",
       "      <td>omny</td>\n",
       "      <td>55796</td>\n",
       "      <td>188</td>\n",
       "      <td>40.757309</td>\n",
       "      <td>-73.981964</td>\n",
       "      <td>POINT (-73.98196411132812 40.75730895996094)</td>\n",
       "      <td>2023-09-20T17:00:00N060Times Sq-42 St (N,Q,R,W...</td>\n",
       "      <td>2023-09-20</td>\n",
       "      <td>2023</td>\n",
       "      <td>9</td>\n",
       "      <td>20</td>\n",
       "      <td>2</td>\n",
       "      <td>38</td>\n",
       "      <td>3</td>\n",
       "      <td>17</td>\n",
       "      <td>2023-09</td>\n",
       "      <td>2023-09-18/2023-09-24</td>\n",
       "    </tr>\n",
       "  </tbody>\n",
       "</table>\n",
       "</div>"
      ],
      "text/plain": [
       "           transit_timestamp station_complex_id  \\\n",
       "11050241 2023-09-20 17:00:00               N060   \n",
       "\n",
       "                                            station_complex borough  \\\n",
       "11050241  Times Sq-42 St (N,Q,R,W,S,1,2,3,7)/42 St (A,C,...       M   \n",
       "\n",
       "                                    routes payment_method  ridership  \\\n",
       "11050241  3,C,1,2,S,7,F,M,E,N,R,Q,,B,W,A,D           omny      55796   \n",
       "\n",
       "          transfers   latitude  longitude  \\\n",
       "11050241        188  40.757309 -73.981964   \n",
       "\n",
       "                                          Georeference  \\\n",
       "11050241  POINT (-73.98196411132812 40.75730895996094)   \n",
       "\n",
       "                                                     itsuid        date  year  \\\n",
       "11050241  2023-09-20T17:00:00N060Times Sq-42 St (N,Q,R,W...  2023-09-20  2023   \n",
       "\n",
       "          month  day  weekday  week  quarter  hour year-month  \\\n",
       "11050241      9   20        2    38        3    17    2023-09   \n",
       "\n",
       "                      year-week  \n",
       "11050241  2023-09-18/2023-09-24  "
      ]
     },
     "execution_count": 25,
     "metadata": {},
     "output_type": "execute_result"
    }
   ],
   "source": [
    "# row with max ridership\n",
    "ridership[ridership['ridership'] == max(ridership['ridership'])]"
   ]
  },
  {
   "cell_type": "code",
   "execution_count": 63,
   "metadata": {},
   "outputs": [
    {
     "data": {
      "text/html": [
       "<div>\n",
       "<style scoped>\n",
       "    .dataframe tbody tr th:only-of-type {\n",
       "        vertical-align: middle;\n",
       "    }\n",
       "\n",
       "    .dataframe tbody tr th {\n",
       "        vertical-align: top;\n",
       "    }\n",
       "\n",
       "    .dataframe thead th {\n",
       "        text-align: right;\n",
       "    }\n",
       "</style>\n",
       "<table border=\"1\" class=\"dataframe\">\n",
       "  <thead>\n",
       "    <tr style=\"text-align: right;\">\n",
       "      <th></th>\n",
       "      <th>transit_timestamp</th>\n",
       "      <th>station_complex_id</th>\n",
       "      <th>ridership</th>\n",
       "    </tr>\n",
       "  </thead>\n",
       "  <tbody>\n",
       "    <tr>\n",
       "      <th>0</th>\n",
       "      <td>2022-02-01</td>\n",
       "      <td>A002</td>\n",
       "      <td>376</td>\n",
       "    </tr>\n",
       "    <tr>\n",
       "      <th>1</th>\n",
       "      <td>2022-02-01</td>\n",
       "      <td>A006</td>\n",
       "      <td>98</td>\n",
       "    </tr>\n",
       "    <tr>\n",
       "      <th>2</th>\n",
       "      <td>2022-02-01</td>\n",
       "      <td>A010</td>\n",
       "      <td>232</td>\n",
       "    </tr>\n",
       "    <tr>\n",
       "      <th>3</th>\n",
       "      <td>2022-02-01</td>\n",
       "      <td>A013</td>\n",
       "      <td>200</td>\n",
       "    </tr>\n",
       "    <tr>\n",
       "      <th>4</th>\n",
       "      <td>2022-02-01</td>\n",
       "      <td>A022</td>\n",
       "      <td>772</td>\n",
       "    </tr>\n",
       "  </tbody>\n",
       "</table>\n",
       "</div>"
      ],
      "text/plain": [
       "  transit_timestamp station_complex_id  ridership\n",
       "0        2022-02-01               A002        376\n",
       "1        2022-02-01               A006         98\n",
       "2        2022-02-01               A010        232\n",
       "3        2022-02-01               A013        200\n",
       "4        2022-02-01               A022        772"
      ]
     },
     "execution_count": 63,
     "metadata": {},
     "output_type": "execute_result"
    }
   ],
   "source": [
    "ridership_total = ridership.groupby(['transit_timestamp', 'station_complex_id'])['ridership'].sum().reset_index()\n",
    "ridership_total.head()"
   ]
  },
  {
   "cell_type": "code",
   "execution_count": 267,
   "metadata": {},
   "outputs": [
    {
     "data": {
      "text/plain": [
       "98312"
      ]
     },
     "execution_count": 267,
     "metadata": {},
     "output_type": "execute_result"
    }
   ],
   "source": [
    "ridership_total['ridership'].max()"
   ]
  },
  {
   "cell_type": "code",
   "execution_count": 64,
   "metadata": {},
   "outputs": [
    {
     "data": {
      "text/html": [
       "<div>\n",
       "<style scoped>\n",
       "    .dataframe tbody tr th:only-of-type {\n",
       "        vertical-align: middle;\n",
       "    }\n",
       "\n",
       "    .dataframe tbody tr th {\n",
       "        vertical-align: top;\n",
       "    }\n",
       "\n",
       "    .dataframe thead th {\n",
       "        text-align: right;\n",
       "    }\n",
       "</style>\n",
       "<table border=\"1\" class=\"dataframe\">\n",
       "  <thead>\n",
       "    <tr style=\"text-align: right;\">\n",
       "      <th></th>\n",
       "      <th>transit_timestamp</th>\n",
       "      <th>station_complex_id</th>\n",
       "      <th>ridership</th>\n",
       "      <th>year</th>\n",
       "      <th>month</th>\n",
       "      <th>day</th>\n",
       "      <th>hour</th>\n",
       "      <th>weekday</th>\n",
       "      <th>weekend</th>\n",
       "    </tr>\n",
       "  </thead>\n",
       "  <tbody>\n",
       "    <tr>\n",
       "      <th>0</th>\n",
       "      <td>2022-02-01</td>\n",
       "      <td>A002</td>\n",
       "      <td>376</td>\n",
       "      <td>2022</td>\n",
       "      <td>2</td>\n",
       "      <td>1</td>\n",
       "      <td>0</td>\n",
       "      <td>1</td>\n",
       "      <td>0</td>\n",
       "    </tr>\n",
       "    <tr>\n",
       "      <th>1</th>\n",
       "      <td>2022-02-01</td>\n",
       "      <td>A006</td>\n",
       "      <td>98</td>\n",
       "      <td>2022</td>\n",
       "      <td>2</td>\n",
       "      <td>1</td>\n",
       "      <td>0</td>\n",
       "      <td>1</td>\n",
       "      <td>0</td>\n",
       "    </tr>\n",
       "    <tr>\n",
       "      <th>2</th>\n",
       "      <td>2022-02-01</td>\n",
       "      <td>A010</td>\n",
       "      <td>232</td>\n",
       "      <td>2022</td>\n",
       "      <td>2</td>\n",
       "      <td>1</td>\n",
       "      <td>0</td>\n",
       "      <td>1</td>\n",
       "      <td>0</td>\n",
       "    </tr>\n",
       "    <tr>\n",
       "      <th>3</th>\n",
       "      <td>2022-02-01</td>\n",
       "      <td>A013</td>\n",
       "      <td>200</td>\n",
       "      <td>2022</td>\n",
       "      <td>2</td>\n",
       "      <td>1</td>\n",
       "      <td>0</td>\n",
       "      <td>1</td>\n",
       "      <td>0</td>\n",
       "    </tr>\n",
       "    <tr>\n",
       "      <th>4</th>\n",
       "      <td>2022-02-01</td>\n",
       "      <td>A022</td>\n",
       "      <td>772</td>\n",
       "      <td>2022</td>\n",
       "      <td>2</td>\n",
       "      <td>1</td>\n",
       "      <td>0</td>\n",
       "      <td>1</td>\n",
       "      <td>0</td>\n",
       "    </tr>\n",
       "  </tbody>\n",
       "</table>\n",
       "</div>"
      ],
      "text/plain": [
       "  transit_timestamp station_complex_id  ridership  year  month  day  hour  \\\n",
       "0        2022-02-01               A002        376  2022      2    1     0   \n",
       "1        2022-02-01               A006         98  2022      2    1     0   \n",
       "2        2022-02-01               A010        232  2022      2    1     0   \n",
       "3        2022-02-01               A013        200  2022      2    1     0   \n",
       "4        2022-02-01               A022        772  2022      2    1     0   \n",
       "\n",
       "   weekday  weekend  \n",
       "0        1        0  \n",
       "1        1        0  \n",
       "2        1        0  \n",
       "3        1        0  \n",
       "4        1        0  "
      ]
     },
     "execution_count": 64,
     "metadata": {},
     "output_type": "execute_result"
    }
   ],
   "source": [
    "ridership_total['year'] = ridership_total['transit_timestamp'].dt.year\n",
    "ridership_total['month'] = ridership_total['transit_timestamp'].dt.month\n",
    "ridership_total['day'] = ridership_total['transit_timestamp'].dt.day\n",
    "ridership_total['hour'] = ridership_total['transit_timestamp'].dt.hour\n",
    "ridership_total['weekday'] = ridership_total['transit_timestamp'].dt.weekday\n",
    "ridership_total['weekend'] = ridership_total['weekday'].apply(lambda x: 1 if x >= 5 else 0)\n",
    "\n",
    "ridership_total.head()"
   ]
  },
  {
   "cell_type": "code",
   "execution_count": 66,
   "metadata": {},
   "outputs": [
    {
     "data": {
      "text/plain": [
       "(0.0, 1000.0)"
      ]
     },
     "execution_count": 66,
     "metadata": {},
     "output_type": "execute_result"
    },
    {
     "data": {
      "image/png": "[encoded data removed]",
      "text/plain": [
       "<Figure size 640x480 with 1 Axes>"
      ]
     },
     "metadata": {},
     "output_type": "display_data"
    }
   ],
   "source": [
    "plt.hist(ridership_total['ridership'], bins=100)\n",
    "plt.ylim(0, 1000)"
   ]
  },
  {
   "cell_type": "code",
   "execution_count": 67,
   "metadata": {},
   "outputs": [
    {
     "data": {
      "text/html": [
       "<div>\n",
       "<style scoped>\n",
       "    .dataframe tbody tr th:only-of-type {\n",
       "        vertical-align: middle;\n",
       "    }\n",
       "\n",
       "    .dataframe tbody tr th {\n",
       "        vertical-align: top;\n",
       "    }\n",
       "\n",
       "    .dataframe thead th {\n",
       "        text-align: right;\n",
       "    }\n",
       "</style>\n",
       "<table border=\"1\" class=\"dataframe\">\n",
       "  <thead>\n",
       "    <tr style=\"text-align: right;\">\n",
       "      <th></th>\n",
       "      <th>transit_timestamp</th>\n",
       "      <th>station_complex_id</th>\n",
       "      <th>ridership</th>\n",
       "      <th>year</th>\n",
       "      <th>month</th>\n",
       "      <th>day</th>\n",
       "      <th>hour</th>\n",
       "      <th>weekday</th>\n",
       "      <th>weekend</th>\n",
       "    </tr>\n",
       "  </thead>\n",
       "  <tbody>\n",
       "    <tr>\n",
       "      <th>1629949</th>\n",
       "      <td>2022-07-14 10:00:00</td>\n",
       "      <td>R513</td>\n",
       "      <td>439</td>\n",
       "      <td>2022</td>\n",
       "      <td>7</td>\n",
       "      <td>14</td>\n",
       "      <td>10</td>\n",
       "      <td>3</td>\n",
       "      <td>0</td>\n",
       "    </tr>\n",
       "    <tr>\n",
       "      <th>2749879</th>\n",
       "      <td>2022-11-03 05:00:00</td>\n",
       "      <td>N557</td>\n",
       "      <td>94</td>\n",
       "      <td>2022</td>\n",
       "      <td>11</td>\n",
       "      <td>3</td>\n",
       "      <td>5</td>\n",
       "      <td>3</td>\n",
       "      <td>0</td>\n",
       "    </tr>\n",
       "    <tr>\n",
       "      <th>5039178</th>\n",
       "      <td>2023-06-20 03:00:00</td>\n",
       "      <td>R160</td>\n",
       "      <td>9</td>\n",
       "      <td>2023</td>\n",
       "      <td>6</td>\n",
       "      <td>20</td>\n",
       "      <td>3</td>\n",
       "      <td>1</td>\n",
       "      <td>0</td>\n",
       "    </tr>\n",
       "    <tr>\n",
       "      <th>2256464</th>\n",
       "      <td>2022-09-14 20:00:00</td>\n",
       "      <td>N185</td>\n",
       "      <td>6</td>\n",
       "      <td>2022</td>\n",
       "      <td>9</td>\n",
       "      <td>14</td>\n",
       "      <td>20</td>\n",
       "      <td>2</td>\n",
       "      <td>0</td>\n",
       "    </tr>\n",
       "    <tr>\n",
       "      <th>5235318</th>\n",
       "      <td>2023-07-09 19:00:00</td>\n",
       "      <td>R309</td>\n",
       "      <td>78</td>\n",
       "      <td>2023</td>\n",
       "      <td>7</td>\n",
       "      <td>9</td>\n",
       "      <td>19</td>\n",
       "      <td>6</td>\n",
       "      <td>1</td>\n",
       "    </tr>\n",
       "  </tbody>\n",
       "</table>\n",
       "</div>"
      ],
      "text/plain": [
       "          transit_timestamp station_complex_id  ridership  year  month  day  \\\n",
       "1629949 2022-07-14 10:00:00               R513        439  2022      7   14   \n",
       "2749879 2022-11-03 05:00:00               N557         94  2022     11    3   \n",
       "5039178 2023-06-20 03:00:00               R160          9  2023      6   20   \n",
       "2256464 2022-09-14 20:00:00               N185          6  2022      9   14   \n",
       "5235318 2023-07-09 19:00:00               R309         78  2023      7    9   \n",
       "\n",
       "         hour  weekday  weekend  \n",
       "1629949    10        3        0  \n",
       "2749879     5        3        0  \n",
       "5039178     3        1        0  \n",
       "2256464    20        2        0  \n",
       "5235318    19        6        1  "
      ]
     },
     "execution_count": 67,
     "metadata": {},
     "output_type": "execute_result"
    }
   ],
   "source": [
    "# First idea: simple random forest regressor based on year, month, day, hour, and station\n",
    "# ['year', 'month', 'day', 'weekday', 'hour', '7 day avg hour ridership', '1 day avg hour ridership', 'last hour ridership', 'ridership']\n",
    "\n",
    "# get 10,000 random rows\n",
    "ridership_after_20220301 = ridership_total[ridership_total['transit_timestamp'] > pd.Timestamp(2022, 3, 1)]\n",
    "ridership_sample = ridership_after_20220301.sample(n=1000, random_state=1)\n",
    "ridership_sample.head()"
   ]
  },
  {
   "cell_type": "code",
   "execution_count": 103,
   "metadata": {},
   "outputs": [],
   "source": [
    "def seven_day_avg_hour_ridership(station_complex_id, time_stamp, df):\n",
    "    \"\"\"\n",
    "    Returns the average ridership for the 7 days prior to the given time_stamp\n",
    "    \"\"\"\n",
    "    try:\n",
    "        time_stamp = pd.to_datetime(time_stamp)\n",
    "        df['transit_timestamp'] = pd.to_datetime(df['transit_timestamp'])\n",
    "        seven_days = pd.Timedelta(days=7)\n",
    "        seven_days_prior = time_stamp - seven_days\n",
    "        seven_days_prior = seven_days_prior.replace(hour=time_stamp.hour)\n",
    "        df_station = df[df['station_complex_id'] == station_complex_id]\n",
    "        df_station_7days = df_station[(df_station['transit_timestamp'] >= seven_days_prior) & (df_station['transit_timestamp'] < time_stamp)]\n",
    "    except:\n",
    "        return np.nan\n",
    "    return np.mean(df_station_7days['ridership'])\n",
    "\n",
    "def one_day_avg_hour_ridership(station_complex_id, time_stamp, df):\n",
    "    \"\"\"\n",
    "    Returns the average ridership for the 1 day prior to the given time_stamp\n",
    "    \"\"\"\n",
    "    try:\n",
    "        time_stamp = pd.to_datetime(time_stamp)\n",
    "        df['transit_timestamp'] = pd.to_datetime(df['transit_timestamp'])\n",
    "        one_day = pd.Timedelta(days=1)\n",
    "        one_day_prior = time_stamp - one_day\n",
    "        one_day_prior = one_day_prior.replace(hour=time_stamp.hour)\n",
    "        df_station = df[df['station_complex_id'] == station_complex_id]\n",
    "        df_station_1day = df_station[(df_station['transit_timestamp'] >= one_day_prior) & (df_station['transit_timestamp'] < time_stamp)]\n",
    "    except:\n",
    "        return np.nan\n",
    "    return np.mean(df_station_1day['ridership'])\n",
    "\n",
    "def last_hour_ridership(station_complex_id, time_stamp, df):\n",
    "    try:\n",
    "        time_stamp = pd.to_datetime(time_stamp)\n",
    "        df['transit_timestamp'] = pd.to_datetime(df['transit_timestamp'])\n",
    "        one_hour = pd.Timedelta(hours=1)\n",
    "        one_hour_prior = time_stamp - one_hour\n",
    "        df_station = df[df['station_complex_id'] == station_complex_id]\n",
    "        df_station_1hour = df_station[(df_station['transit_timestamp'] == one_hour_prior)]\n",
    "        return df_station_1hour['ridership'].values[0]\n",
    "    except:\n",
    "        return np.nan"
   ]
  },
  {
   "cell_type": "code",
   "execution_count": 104,
   "metadata": {},
   "outputs": [
    {
     "name": "stdout",
     "output_type": "stream",
     "text": [
      "2023-03-04 10:00:00\n",
      "N343\n"
     ]
    }
   ],
   "source": [
    "test_timestamp = ridership_sample.iloc[999, :]['transit_timestamp']\n",
    "test_station_id = ridership_sample.iloc[999, :]['station_complex_id']\n",
    "print(test_timestamp)\n",
    "print(test_station_id)"
   ]
  },
  {
   "cell_type": "code",
   "execution_count": 105,
   "metadata": {},
   "outputs": [
    {
     "data": {
      "text/plain": [
       "470.54761904761904"
      ]
     },
     "execution_count": 105,
     "metadata": {},
     "output_type": "execute_result"
    }
   ],
   "source": [
    "seven_day_avg_hour_ridership(test_station_id, test_timestamp, ridership_total)"
   ]
  },
  {
   "cell_type": "code",
   "execution_count": 106,
   "metadata": {},
   "outputs": [
    {
     "data": {
      "text/plain": [
       "301.75"
      ]
     },
     "execution_count": 106,
     "metadata": {},
     "output_type": "execute_result"
    }
   ],
   "source": [
    "one_day_avg_hour_ridership(test_station_id, test_timestamp, ridership_total)"
   ]
  },
  {
   "cell_type": "code",
   "execution_count": 107,
   "metadata": {},
   "outputs": [
    {
     "data": {
      "text/plain": [
       "465"
      ]
     },
     "execution_count": 107,
     "metadata": {},
     "output_type": "execute_result"
    }
   ],
   "source": [
    "last_hour_ridership(test_station_id, test_timestamp, ridership_total)"
   ]
  },
  {
   "cell_type": "code",
   "execution_count": 110,
   "metadata": {},
   "outputs": [
    {
     "data": {
      "text/plain": [
       "(100, 9)"
      ]
     },
     "execution_count": 110,
     "metadata": {},
     "output_type": "execute_result"
    }
   ],
   "source": [
    "ridership_sample_100 = ridership_sample.sample(n=100, random_state=1)\n",
    "ridership_sample_100.shape"
   ]
  },
  {
   "cell_type": "code",
   "execution_count": 111,
   "metadata": {},
   "outputs": [],
   "source": [
    "ridership_sample_100['last_hour'] = ridership_sample_100.apply(lambda row: last_hour_ridership(row['station_complex_id'], row['transit_timestamp'], ridership_total), axis=1)"
   ]
  },
  {
   "cell_type": "code",
   "execution_count": 112,
   "metadata": {},
   "outputs": [
    {
     "data": {
      "text/plain": [
       "transit_timestamp     0\n",
       "station_complex_id    0\n",
       "ridership             0\n",
       "year                  0\n",
       "month                 0\n",
       "day                   0\n",
       "hour                  0\n",
       "weekday               0\n",
       "weekend               0\n",
       "last_hour             1\n",
       "dtype: int64"
      ]
     },
     "execution_count": 112,
     "metadata": {},
     "output_type": "execute_result"
    }
   ],
   "source": [
    "ridership_sample_100.isnull().sum()"
   ]
  },
  {
   "cell_type": "code",
   "execution_count": 115,
   "metadata": {},
   "outputs": [
    {
     "data": {
      "text/html": [
       "<div>\n",
       "<style scoped>\n",
       "    .dataframe tbody tr th:only-of-type {\n",
       "        vertical-align: middle;\n",
       "    }\n",
       "\n",
       "    .dataframe tbody tr th {\n",
       "        vertical-align: top;\n",
       "    }\n",
       "\n",
       "    .dataframe thead th {\n",
       "        text-align: right;\n",
       "    }\n",
       "</style>\n",
       "<table border=\"1\" class=\"dataframe\">\n",
       "  <thead>\n",
       "    <tr style=\"text-align: right;\">\n",
       "      <th></th>\n",
       "      <th>transit_timestamp</th>\n",
       "      <th>station_complex_id</th>\n",
       "      <th>ridership</th>\n",
       "      <th>year</th>\n",
       "      <th>month</th>\n",
       "      <th>day</th>\n",
       "      <th>hour</th>\n",
       "      <th>weekday</th>\n",
       "      <th>weekend</th>\n",
       "      <th>last_hour</th>\n",
       "    </tr>\n",
       "  </thead>\n",
       "  <tbody>\n",
       "    <tr>\n",
       "      <th>3892794</th>\n",
       "      <td>2023-02-25 02:00:00</td>\n",
       "      <td>H022</td>\n",
       "      <td>6</td>\n",
       "      <td>2023</td>\n",
       "      <td>2</td>\n",
       "      <td>25</td>\n",
       "      <td>2</td>\n",
       "      <td>5</td>\n",
       "      <td>1</td>\n",
       "      <td>NaN</td>\n",
       "    </tr>\n",
       "  </tbody>\n",
       "</table>\n",
       "</div>"
      ],
      "text/plain": [
       "          transit_timestamp station_complex_id  ridership  year  month  day  \\\n",
       "3892794 2023-02-25 02:00:00               H022          6  2023      2   25   \n",
       "\n",
       "         hour  weekday  weekend  last_hour  \n",
       "3892794     2        5        1        NaN  "
      ]
     },
     "execution_count": 115,
     "metadata": {},
     "output_type": "execute_result"
    }
   ],
   "source": [
    "# check rows with null values\n",
    "na_test = ridership_sample_100[ridership_sample_100['last_hour'].isnull()]\n",
    "na_test"
   ]
  },
  {
   "cell_type": "code",
   "execution_count": 116,
   "metadata": {},
   "outputs": [
    {
     "data": {
      "text/plain": [
       "3892794   NaN\n",
       "dtype: float64"
      ]
     },
     "execution_count": 116,
     "metadata": {},
     "output_type": "execute_result"
    }
   ],
   "source": [
    "na_test_onehour = na_test.apply(lambda row: last_hour_ridership(row['station_complex_id'], row['transit_timestamp'], ridership_total), axis=1)\n"
   ]
  },
  {
   "cell_type": "code",
   "execution_count": 118,
   "metadata": {},
   "outputs": [
    {
     "name": "stdout",
     "output_type": "stream",
     "text": [
      "H022\n",
      "2023-02-25 02:00:00\n"
     ]
    }
   ],
   "source": [
    "row = na_test.iloc[0, :]\n",
    "print(row['station_complex_id'])\n",
    "print(row['transit_timestamp'])"
   ]
  },
  {
   "cell_type": "code",
   "execution_count": 122,
   "metadata": {},
   "outputs": [
    {
     "data": {
      "text/plain": [
       "nan"
      ]
     },
     "execution_count": 122,
     "metadata": {},
     "output_type": "execute_result"
    }
   ],
   "source": [
    "last_hour_ridership('H022', pd.Timestamp(2023, 2, 25, 2), ridership_total)"
   ]
  },
  {
   "cell_type": "code",
   "execution_count": 126,
   "metadata": {},
   "outputs": [
    {
     "data": {
      "text/html": [
       "<div>\n",
       "<style scoped>\n",
       "    .dataframe tbody tr th:only-of-type {\n",
       "        vertical-align: middle;\n",
       "    }\n",
       "\n",
       "    .dataframe tbody tr th {\n",
       "        vertical-align: top;\n",
       "    }\n",
       "\n",
       "    .dataframe thead th {\n",
       "        text-align: right;\n",
       "    }\n",
       "</style>\n",
       "<table border=\"1\" class=\"dataframe\">\n",
       "  <thead>\n",
       "    <tr style=\"text-align: right;\">\n",
       "      <th></th>\n",
       "      <th>transit_timestamp</th>\n",
       "      <th>station_complex_id</th>\n",
       "      <th>ridership</th>\n",
       "      <th>year</th>\n",
       "      <th>month</th>\n",
       "      <th>day</th>\n",
       "      <th>hour</th>\n",
       "      <th>weekday</th>\n",
       "      <th>weekend</th>\n",
       "    </tr>\n",
       "  </thead>\n",
       "  <tbody>\n",
       "    <tr>\n",
       "      <th>3892008</th>\n",
       "      <td>2023-02-25</td>\n",
       "      <td>H022</td>\n",
       "      <td>9</td>\n",
       "      <td>2023</td>\n",
       "      <td>2</td>\n",
       "      <td>25</td>\n",
       "      <td>0</td>\n",
       "      <td>5</td>\n",
       "      <td>1</td>\n",
       "    </tr>\n",
       "  </tbody>\n",
       "</table>\n",
       "</div>"
      ],
      "text/plain": [
       "        transit_timestamp station_complex_id  ridership  year  month  day  \\\n",
       "3892008        2023-02-25               H022          9  2023      2   25   \n",
       "\n",
       "         hour  weekday  weekend  \n",
       "3892008     0        5        1  "
      ]
     },
     "execution_count": 126,
     "metadata": {},
     "output_type": "execute_result"
    }
   ],
   "source": [
    "test_station = ridership_total[ridership_total['station_complex_id'] == 'H022']\n",
    "test_station[test_station['transit_timestamp'] == pd.Timestamp(2023, 2, 25, 0)]"
   ]
  },
  {
   "cell_type": "markdown",
   "metadata": {},
   "source": [
    "H022 doesn't have 2023-02-25 1:00:00"
   ]
  },
  {
   "cell_type": "code",
   "execution_count": 127,
   "metadata": {},
   "outputs": [
    {
     "data": {
      "text/html": [
       "<div>\n",
       "<style scoped>\n",
       "    .dataframe tbody tr th:only-of-type {\n",
       "        vertical-align: middle;\n",
       "    }\n",
       "\n",
       "    .dataframe tbody tr th {\n",
       "        vertical-align: top;\n",
       "    }\n",
       "\n",
       "    .dataframe thead th {\n",
       "        text-align: right;\n",
       "    }\n",
       "</style>\n",
       "<table border=\"1\" class=\"dataframe\">\n",
       "  <thead>\n",
       "    <tr style=\"text-align: right;\">\n",
       "      <th></th>\n",
       "      <th>transit_timestamp</th>\n",
       "      <th>station_complex_id</th>\n",
       "      <th>ridership</th>\n",
       "      <th>year</th>\n",
       "      <th>month</th>\n",
       "      <th>day</th>\n",
       "      <th>hour</th>\n",
       "      <th>weekday</th>\n",
       "      <th>weekend</th>\n",
       "      <th>seven_day_avg</th>\n",
       "      <th>one_day_avg</th>\n",
       "      <th>last_hour</th>\n",
       "    </tr>\n",
       "  </thead>\n",
       "  <tbody>\n",
       "    <tr>\n",
       "      <th>1629949</th>\n",
       "      <td>2022-07-14 10:00:00</td>\n",
       "      <td>R513</td>\n",
       "      <td>439</td>\n",
       "      <td>2022</td>\n",
       "      <td>7</td>\n",
       "      <td>14</td>\n",
       "      <td>10</td>\n",
       "      <td>3</td>\n",
       "      <td>0</td>\n",
       "      <td>150.265672</td>\n",
       "      <td>173.208333</td>\n",
       "      <td>460.0</td>\n",
       "    </tr>\n",
       "    <tr>\n",
       "      <th>2749879</th>\n",
       "      <td>2022-11-03 05:00:00</td>\n",
       "      <td>N557</td>\n",
       "      <td>94</td>\n",
       "      <td>2022</td>\n",
       "      <td>11</td>\n",
       "      <td>3</td>\n",
       "      <td>5</td>\n",
       "      <td>3</td>\n",
       "      <td>0</td>\n",
       "      <td>53.328125</td>\n",
       "      <td>59.369565</td>\n",
       "      <td>5.0</td>\n",
       "    </tr>\n",
       "    <tr>\n",
       "      <th>5039178</th>\n",
       "      <td>2023-06-20 03:00:00</td>\n",
       "      <td>R160</td>\n",
       "      <td>9</td>\n",
       "      <td>2023</td>\n",
       "      <td>6</td>\n",
       "      <td>20</td>\n",
       "      <td>3</td>\n",
       "      <td>1</td>\n",
       "      <td>0</td>\n",
       "      <td>763.210843</td>\n",
       "      <td>563.617021</td>\n",
       "      <td>6.0</td>\n",
       "    </tr>\n",
       "    <tr>\n",
       "      <th>2256464</th>\n",
       "      <td>2022-09-14 20:00:00</td>\n",
       "      <td>N185</td>\n",
       "      <td>6</td>\n",
       "      <td>2022</td>\n",
       "      <td>9</td>\n",
       "      <td>14</td>\n",
       "      <td>20</td>\n",
       "      <td>2</td>\n",
       "      <td>0</td>\n",
       "      <td>7.572954</td>\n",
       "      <td>8.743590</td>\n",
       "      <td>1.0</td>\n",
       "    </tr>\n",
       "    <tr>\n",
       "      <th>5235318</th>\n",
       "      <td>2023-07-09 19:00:00</td>\n",
       "      <td>R309</td>\n",
       "      <td>78</td>\n",
       "      <td>2023</td>\n",
       "      <td>7</td>\n",
       "      <td>9</td>\n",
       "      <td>19</td>\n",
       "      <td>6</td>\n",
       "      <td>1</td>\n",
       "      <td>103.559633</td>\n",
       "      <td>72.255319</td>\n",
       "      <td>66.0</td>\n",
       "    </tr>\n",
       "  </tbody>\n",
       "</table>\n",
       "</div>"
      ],
      "text/plain": [
       "          transit_timestamp station_complex_id  ridership  year  month  day  \\\n",
       "1629949 2022-07-14 10:00:00               R513        439  2022      7   14   \n",
       "2749879 2022-11-03 05:00:00               N557         94  2022     11    3   \n",
       "5039178 2023-06-20 03:00:00               R160          9  2023      6   20   \n",
       "2256464 2022-09-14 20:00:00               N185          6  2022      9   14   \n",
       "5235318 2023-07-09 19:00:00               R309         78  2023      7    9   \n",
       "\n",
       "         hour  weekday  weekend  seven_day_avg  one_day_avg  last_hour  \n",
       "1629949    10        3        0     150.265672   173.208333      460.0  \n",
       "2749879     5        3        0      53.328125    59.369565        5.0  \n",
       "5039178     3        1        0     763.210843   563.617021        6.0  \n",
       "2256464    20        2        0       7.572954     8.743590        1.0  \n",
       "5235318    19        6        1     103.559633    72.255319       66.0  "
      ]
     },
     "execution_count": 127,
     "metadata": {},
     "output_type": "execute_result"
    }
   ],
   "source": [
    "# data prep for rf\n",
    "ridership_sample['seven_day_avg'] = ridership_sample.apply(lambda row: seven_day_avg_hour_ridership(row['station_complex_id'], row['transit_timestamp'], ridership), axis=1)\n",
    "ridership_sample['one_day_avg'] = ridership_sample.apply(lambda row: one_day_avg_hour_ridership(row['station_complex_id'], row['transit_timestamp'], ridership), axis=1)\n",
    "ridership_sample['last_hour'] = ridership_sample.apply(lambda row: last_hour_ridership(row['station_complex_id'], row['transit_timestamp'], ridership), axis=1)\n",
    "ridership_sample.head()"
   ]
  },
  {
   "cell_type": "code",
   "execution_count": 128,
   "metadata": {},
   "outputs": [],
   "source": [
    "ridership_sample.to_csv('data/ridership_sample.csv', index=False)"
   ]
  },
  {
   "cell_type": "code",
   "execution_count": 129,
   "metadata": {},
   "outputs": [
    {
     "data": {
      "text/plain": [
       "transit_timestamp     0\n",
       "station_complex_id    0\n",
       "ridership             0\n",
       "year                  0\n",
       "month                 0\n",
       "day                   0\n",
       "hour                  0\n",
       "weekday               0\n",
       "weekend               0\n",
       "seven_day_avg         0\n",
       "one_day_avg           0\n",
       "last_hour             4\n",
       "dtype: int64"
      ]
     },
     "execution_count": 129,
     "metadata": {},
     "output_type": "execute_result"
    }
   ],
   "source": [
    "ridership_sample.isna().sum()"
   ]
  },
  {
   "cell_type": "code",
   "execution_count": 132,
   "metadata": {},
   "outputs": [],
   "source": [
    "ridership_sample.dropna(inplace=True)"
   ]
  },
  {
   "cell_type": "code",
   "execution_count": 211,
   "metadata": {},
   "outputs": [],
   "source": [
    "ridership_df = ridership_sample[['year', 'month', 'day', 'weekday', 'hour', 'last_hour', 'ridership']]\n",
    "\n",
    "X = ridership_df.iloc[:, :-1]\n",
    "y = ridership_df.iloc[:, -1]"
   ]
  },
  {
   "cell_type": "code",
   "execution_count": 212,
   "metadata": {},
   "outputs": [
    {
     "name": "stdout",
     "output_type": "stream",
     "text": [
      "Mean squared error: 318624.75\n",
      "R2 score: 0.82\n"
     ]
    }
   ],
   "source": [
    "from sklearn.model_selection import train_test_split\n",
    "from sklearn.metrics import mean_squared_error, r2_score\n",
    "\n",
    "X_train, X_test, y_train, y_test = train_test_split(X, y, test_size=0.2, random_state=1)\n",
    "\n",
    "rf = RandomForestRegressor(n_estimators=100, max_depth=10, random_state=1)\n",
    "rf.fit(X_train, y_train)\n",
    "\n",
    "y_pred = rf.predict(X_test)\n",
    "\n",
    "print('Mean squared error: %.2f' % mean_squared_error(y_test, y_pred))\n",
    "print('R2 score: %.2f' % r2_score(y_test, y_pred))"
   ]
  },
  {
   "cell_type": "code",
   "execution_count": 264,
   "metadata": {},
   "outputs": [
    {
     "data": {
      "text/plain": [
       "Text(0.5, 1.0, 'Feature Importance')"
      ]
     },
     "execution_count": 264,
     "metadata": {},
     "output_type": "execute_result"
    },
    {
     "data": {
      "image/png": "[encoded data removed]",
      "text/plain": [
       "<Figure size 800x600 with 1 Axes>"
      ]
     },
     "metadata": {},
     "output_type": "display_data"
    }
   ],
   "source": [
    "# Plot feature importance\n",
    "\n",
    "feature_importance = pd.DataFrame({'feature': X.columns, 'importance': rf.feature_importances_})\n",
    "feature_importance.sort_values('importance', ascending=False, inplace=True)\n",
    "plt.figure(figsize=(8, 6))\n",
    "sns.barplot(x='importance', y='feature', data=feature_importance)\n",
    "plt.title('Feature Importance')"
   ]
  },
  {
   "cell_type": "code",
   "execution_count": 214,
   "metadata": {},
   "outputs": [],
   "source": [
    "# save random forest model\n",
    "import pickle\n",
    "\n",
    "pickle.dump(rf, open('models/rf_model.pkl', 'wb'))"
   ]
  },
  {
   "cell_type": "code",
   "execution_count": 147,
   "metadata": {},
   "outputs": [],
   "source": [
    "# second idea: 60 day rolling window to predict next day ridership using time series models like ARIMA\n",
    "\n",
    "def last_72_hour(station_complex_id, time_stamp, df):\n",
    "    try:\n",
    "        time_stamp = pd.to_datetime(time_stamp)\n",
    "        df['transit_timestamp'] = pd.to_datetime(df['transit_timestamp'])\n",
    "        three_days = pd.Timedelta(days=3)\n",
    "        two_days_prior = time_stamp - three_days\n",
    "        df_station = df[df['station_complex_id'] == station_complex_id]\n",
    "        df_station_2days = df_station[(df_station['transit_timestamp'] >= two_days_prior) & (df_station['transit_timestamp'] < time_stamp)]\n",
    "        df_station_2days.sort_values('transit_timestamp', ascending=True, inplace=True)\n",
    "        return df_station_2days['ridership'].values\n",
    "    except:\n",
    "        return np.nan"
   ]
  },
  {
   "cell_type": "code",
   "execution_count": 148,
   "metadata": {},
   "outputs": [
    {
     "data": {
      "text/plain": [
       "transit_timestamp     0\n",
       "station_complex_id    0\n",
       "ridership             0\n",
       "year                  0\n",
       "month                 0\n",
       "day                   0\n",
       "hour                  0\n",
       "weekday               0\n",
       "weekend               0\n",
       "seven_day_avg         0\n",
       "one_day_avg           0\n",
       "last_hour             0\n",
       "last_48hr_ts          0\n",
       "last_72hr_ts          0\n",
       "dtype: int64"
      ]
     },
     "execution_count": 148,
     "metadata": {},
     "output_type": "execute_result"
    }
   ],
   "source": [
    "ridership_sample['last_72hr_ts'] = ridership_sample.apply(lambda row: last_72_hour(row['station_complex_id'], row['transit_timestamp'], ridership_total), axis=1)\n",
    "\n",
    "ridership_sample.isna().sum()"
   ]
  },
  {
   "cell_type": "code",
   "execution_count": 149,
   "metadata": {},
   "outputs": [],
   "source": [
    "ridership_sample.to_csv('data/ridership_sample.csv', index=False)"
   ]
  },
  {
   "cell_type": "code",
   "execution_count": 150,
   "metadata": {},
   "outputs": [
    {
     "data": {
      "text/html": [
       "<div>\n",
       "<style scoped>\n",
       "    .dataframe tbody tr th:only-of-type {\n",
       "        vertical-align: middle;\n",
       "    }\n",
       "\n",
       "    .dataframe tbody tr th {\n",
       "        vertical-align: top;\n",
       "    }\n",
       "\n",
       "    .dataframe thead th {\n",
       "        text-align: right;\n",
       "    }\n",
       "</style>\n",
       "<table border=\"1\" class=\"dataframe\">\n",
       "  <thead>\n",
       "    <tr style=\"text-align: right;\">\n",
       "      <th></th>\n",
       "      <th>transit_timestamp</th>\n",
       "      <th>station_complex_id</th>\n",
       "      <th>ridership</th>\n",
       "      <th>year</th>\n",
       "      <th>month</th>\n",
       "      <th>day</th>\n",
       "      <th>hour</th>\n",
       "      <th>weekday</th>\n",
       "      <th>weekend</th>\n",
       "      <th>seven_day_avg</th>\n",
       "      <th>one_day_avg</th>\n",
       "      <th>last_hour</th>\n",
       "      <th>last_48hr_ts</th>\n",
       "      <th>last_72hr_ts</th>\n",
       "    </tr>\n",
       "  </thead>\n",
       "  <tbody>\n",
       "    <tr>\n",
       "      <th>1629949</th>\n",
       "      <td>2022-07-14 10:00:00</td>\n",
       "      <td>R513</td>\n",
       "      <td>439</td>\n",
       "      <td>2022</td>\n",
       "      <td>7</td>\n",
       "      <td>14</td>\n",
       "      <td>10</td>\n",
       "      <td>3</td>\n",
       "      <td>0</td>\n",
       "      <td>150.265672</td>\n",
       "      <td>173.208333</td>\n",
       "      <td>460.0</td>\n",
       "      <td>[466, 317, 290, 301, 332, 400, 493, 523, 382, ...</td>\n",
       "      <td>[364, 313, 285, 312, 333, 421, 465, 484, 355, ...</td>\n",
       "    </tr>\n",
       "    <tr>\n",
       "      <th>2749879</th>\n",
       "      <td>2022-11-03 05:00:00</td>\n",
       "      <td>N557</td>\n",
       "      <td>94</td>\n",
       "      <td>2022</td>\n",
       "      <td>11</td>\n",
       "      <td>3</td>\n",
       "      <td>5</td>\n",
       "      <td>3</td>\n",
       "      <td>0</td>\n",
       "      <td>53.328125</td>\n",
       "      <td>59.369565</td>\n",
       "      <td>5.0</td>\n",
       "      <td>[79, 189, 438, 414, 196, 137, 96, 96, 93, 147,...</td>\n",
       "      <td>[83, 190, 393, 392, 198, 109, 71, 103, 98, 171...</td>\n",
       "    </tr>\n",
       "    <tr>\n",
       "      <th>5039178</th>\n",
       "      <td>2023-06-20 03:00:00</td>\n",
       "      <td>R160</td>\n",
       "      <td>9</td>\n",
       "      <td>2023</td>\n",
       "      <td>6</td>\n",
       "      <td>20</td>\n",
       "      <td>3</td>\n",
       "      <td>1</td>\n",
       "      <td>0</td>\n",
       "      <td>763.210843</td>\n",
       "      <td>563.617021</td>\n",
       "      <td>6.0</td>\n",
       "      <td>[30, 15, 33, 105, 156, 333, 549, 813, 1197, 13...</td>\n",
       "      <td>[24, 30, 66, 243, 243, 462, 747, 1104, 1323, 1...</td>\n",
       "    </tr>\n",
       "    <tr>\n",
       "      <th>2256464</th>\n",
       "      <td>2022-09-14 20:00:00</td>\n",
       "      <td>N185</td>\n",
       "      <td>6</td>\n",
       "      <td>2022</td>\n",
       "      <td>9</td>\n",
       "      <td>14</td>\n",
       "      <td>20</td>\n",
       "      <td>2</td>\n",
       "      <td>0</td>\n",
       "      <td>7.572954</td>\n",
       "      <td>8.743590</td>\n",
       "      <td>1.0</td>\n",
       "      <td>[3, 6, 1, 1, 2, 1, 1, 3, 11, 22, 23, 58, 19, 1...</td>\n",
       "      <td>[1, 5, 5, 2, 2, 2, 3, 8, 17, 30, 46, 17, 11, 7...</td>\n",
       "    </tr>\n",
       "    <tr>\n",
       "      <th>5235318</th>\n",
       "      <td>2023-07-09 19:00:00</td>\n",
       "      <td>R309</td>\n",
       "      <td>78</td>\n",
       "      <td>2023</td>\n",
       "      <td>7</td>\n",
       "      <td>9</td>\n",
       "      <td>19</td>\n",
       "      <td>6</td>\n",
       "      <td>1</td>\n",
       "      <td>103.559633</td>\n",
       "      <td>72.255319</td>\n",
       "      <td>66.0</td>\n",
       "      <td>[222, 168, 144, 84, 21, 27, 6, 12, 6, 24, 96, ...</td>\n",
       "      <td>[222, 111, 81, 78, 54, 21, 18, 12, 6, 66, 201,...</td>\n",
       "    </tr>\n",
       "  </tbody>\n",
       "</table>\n",
       "</div>"
      ],
      "text/plain": [
       "          transit_timestamp station_complex_id  ridership  year  month  day  \\\n",
       "1629949 2022-07-14 10:00:00               R513        439  2022      7   14   \n",
       "2749879 2022-11-03 05:00:00               N557         94  2022     11    3   \n",
       "5039178 2023-06-20 03:00:00               R160          9  2023      6   20   \n",
       "2256464 2022-09-14 20:00:00               N185          6  2022      9   14   \n",
       "5235318 2023-07-09 19:00:00               R309         78  2023      7    9   \n",
       "\n",
       "         hour  weekday  weekend  seven_day_avg  one_day_avg  last_hour  \\\n",
       "1629949    10        3        0     150.265672   173.208333      460.0   \n",
       "2749879     5        3        0      53.328125    59.369565        5.0   \n",
       "5039178     3        1        0     763.210843   563.617021        6.0   \n",
       "2256464    20        2        0       7.572954     8.743590        1.0   \n",
       "5235318    19        6        1     103.559633    72.255319       66.0   \n",
       "\n",
       "                                              last_48hr_ts  \\\n",
       "1629949  [466, 317, 290, 301, 332, 400, 493, 523, 382, ...   \n",
       "2749879  [79, 189, 438, 414, 196, 137, 96, 96, 93, 147,...   \n",
       "5039178  [30, 15, 33, 105, 156, 333, 549, 813, 1197, 13...   \n",
       "2256464  [3, 6, 1, 1, 2, 1, 1, 3, 11, 22, 23, 58, 19, 1...   \n",
       "5235318  [222, 168, 144, 84, 21, 27, 6, 12, 6, 24, 96, ...   \n",
       "\n",
       "                                              last_72hr_ts  \n",
       "1629949  [364, 313, 285, 312, 333, 421, 465, 484, 355, ...  \n",
       "2749879  [83, 190, 393, 392, 198, 109, 71, 103, 98, 171...  \n",
       "5039178  [24, 30, 66, 243, 243, 462, 747, 1104, 1323, 1...  \n",
       "2256464  [1, 5, 5, 2, 2, 2, 3, 8, 17, 30, 46, 17, 11, 7...  \n",
       "5235318  [222, 111, 81, 78, 54, 21, 18, 12, 6, 66, 201,...  "
      ]
     },
     "execution_count": 150,
     "metadata": {},
     "output_type": "execute_result"
    }
   ],
   "source": [
    "ridership_sample.head()"
   ]
  },
  {
   "cell_type": "code",
   "execution_count": 160,
   "metadata": {},
   "outputs": [
    {
     "data": {
      "text/plain": [
       "[<matplotlib.lines.Line2D at 0x30656a5f0>]"
      ]
     },
     "execution_count": 160,
     "metadata": {},
     "output_type": "execute_result"
    },
    {
     "data": {
      "image/png": "[encoded data removed]",
      "text/plain": [
       "<Figure size 640x480 with 1 Axes>"
      ]
     },
     "metadata": {},
     "output_type": "display_data"
    }
   ],
   "source": [
    "# fit ARIMA model for each data point and calculate MSE and R2\n",
    "from statsmodels.tsa.arima.model import ARIMA\n",
    "\n",
    "test_past_72hr = ridership_sample.iloc[0, :]['last_72hr_ts']\n",
    "test_pred = ridership_sample.iloc[0, :]['ridership']\n",
    "\n",
    "plt.plot(test_past_72hr)"
   ]
  },
  {
   "cell_type": "code",
   "execution_count": 161,
   "metadata": {},
   "outputs": [
    {
     "name": "stdout",
     "output_type": "stream",
     "text": [
      "                               SARIMAX Results                                \n",
      "==============================================================================\n",
      "Dep. Variable:                      y   No. Observations:                   72\n",
      "Model:                 ARIMA(1, 1, 1)   Log Likelihood                -481.466\n",
      "Date:                Sun, 08 Oct 2023   AIC                            968.931\n",
      "Time:                        00:15:20   BIC                            975.719\n",
      "Sample:                             0   HQIC                           971.631\n",
      "                                 - 72                                         \n",
      "Covariance Type:                  opg                                         \n",
      "==============================================================================\n",
      "                 coef    std err          z      P>|z|      [0.025      0.975]\n",
      "------------------------------------------------------------------------------\n",
      "ar.L1         -0.1565      0.347     -0.451      0.652      -0.837       0.524\n",
      "ma.L1          0.5626      0.411      1.368      0.171      -0.244       1.369\n",
      "sigma2      4.532e+04   5640.241      8.035      0.000    3.43e+04    5.64e+04\n",
      "===================================================================================\n",
      "Ljung-Box (L1) (Q):                   0.00   Jarque-Bera (JB):               154.29\n",
      "Prob(Q):                              0.96   Prob(JB):                         0.00\n",
      "Heteroskedasticity (H):               1.08   Skew:                            -1.57\n",
      "Prob(H) (two-sided):                  0.85   Kurtosis:                         9.50\n",
      "===================================================================================\n",
      "\n",
      "Warnings:\n",
      "[1] Covariance matrix calculated using the outer product of gradients (complex-step).\n",
      "                               SARIMAX Results                                \n",
      "==============================================================================\n",
      "Dep. Variable:                      y   No. Observations:                   72\n",
      "Model:                 ARIMA(1, 1, 2)   Log Likelihood                -475.446\n",
      "Date:                Sun, 08 Oct 2023   AIC                            958.892\n",
      "Time:                        00:15:20   BIC                            967.943\n",
      "Sample:                             0   HQIC                           962.492\n",
      "                                 - 72                                         \n",
      "Covariance Type:                  opg                                         \n",
      "==============================================================================\n",
      "                 coef    std err          z      P>|z|      [0.025      0.975]\n",
      "------------------------------------------------------------------------------\n",
      "ar.L1          0.6001      0.099      6.041      0.000       0.405       0.795\n",
      "ma.L1         -0.4296      0.292     -1.473      0.141      -1.001       0.142\n",
      "ma.L2         -0.5703      0.155     -3.670      0.000      -0.875      -0.266\n",
      "sigma2      3.678e+04   6.47e-06   5.68e+09      0.000    3.68e+04    3.68e+04\n",
      "===================================================================================\n",
      "Ljung-Box (L1) (Q):                   0.18   Jarque-Bera (JB):                26.56\n",
      "Prob(Q):                              0.67   Prob(JB):                         0.00\n",
      "Heteroskedasticity (H):               1.11   Skew:                             0.50\n",
      "Prob(H) (two-sided):                  0.79   Kurtosis:                         5.83\n",
      "===================================================================================\n",
      "\n",
      "Warnings:\n",
      "[1] Covariance matrix calculated using the outer product of gradients (complex-step).\n",
      "[2] Covariance matrix is singular or near-singular, with condition number 1.36e+26. Standard errors may be unstable.\n",
      "                               SARIMAX Results                                \n",
      "==============================================================================\n",
      "Dep. Variable:                      y   No. Observations:                   72\n",
      "Model:                 ARIMA(1, 2, 1)   Log Likelihood                -478.924\n",
      "Date:                Sun, 08 Oct 2023   AIC                            963.848\n",
      "Time:                        00:15:20   BIC                            970.593\n",
      "Sample:                             0   HQIC                           966.527\n",
      "                                 - 72                                         \n",
      "Covariance Type:                  opg                                         \n",
      "==============================================================================\n",
      "                 coef    std err          z      P>|z|      [0.025      0.975]\n",
      "------------------------------------------------------------------------------\n",
      "ar.L1          0.2944      0.088      3.363      0.001       0.123       0.466\n",
      "ma.L1         -0.9999      0.117     -8.531      0.000      -1.230      -0.770\n",
      "sigma2      4.879e+04   2.41e-06   2.02e+10      0.000    4.88e+04    4.88e+04\n",
      "===================================================================================\n",
      "Ljung-Box (L1) (Q):                   0.33   Jarque-Bera (JB):               195.19\n",
      "Prob(Q):                              0.56   Prob(JB):                         0.00\n",
      "Heteroskedasticity (H):               0.99   Skew:                            -1.86\n",
      "Prob(H) (two-sided):                  0.98   Kurtosis:                        10.29\n",
      "===================================================================================\n",
      "\n",
      "Warnings:\n",
      "[1] Covariance matrix calculated using the outer product of gradients (complex-step).\n",
      "[2] Covariance matrix is singular or near-singular, with condition number 2.86e+25. Standard errors may be unstable.\n",
      "                               SARIMAX Results                                \n",
      "==============================================================================\n",
      "Dep. Variable:                      y   No. Observations:                   72\n",
      "Model:                 ARIMA(1, 2, 2)   Log Likelihood                -476.954\n",
      "Date:                Sun, 08 Oct 2023   AIC                            961.908\n",
      "Time:                        00:15:20   BIC                            970.902\n",
      "Sample:                             0   HQIC                           965.481\n",
      "                                 - 72                                         \n",
      "Covariance Type:                  opg                                         \n",
      "==============================================================================\n",
      "                 coef    std err          z      P>|z|      [0.025      0.975]\n",
      "------------------------------------------------------------------------------\n",
      "ar.L1         -0.1308      0.351     -0.372      0.710      -0.819       0.557\n",
      "ma.L1         -0.4487      0.498     -0.901      0.367      -1.424       0.527\n",
      "ma.L2         -0.5512      0.370     -1.489      0.137      -1.277       0.175\n",
      "sigma2      4.601e+04    6.9e-06   6.67e+09      0.000     4.6e+04     4.6e+04\n",
      "===================================================================================\n",
      "Ljung-Box (L1) (Q):                   0.02   Jarque-Bera (JB):               182.48\n",
      "Prob(Q):                              0.88   Prob(JB):                         0.00\n",
      "Heteroskedasticity (H):               1.08   Skew:                            -1.81\n",
      "Prob(H) (two-sided):                  0.85   Kurtosis:                        10.03\n",
      "===================================================================================\n",
      "\n",
      "Warnings:\n",
      "[1] Covariance matrix calculated using the outer product of gradients (complex-step).\n",
      "[2] Covariance matrix is singular or near-singular, with condition number 3.18e+26. Standard errors may be unstable.\n",
      "                               SARIMAX Results                                \n",
      "==============================================================================\n",
      "Dep. Variable:                      y   No. Observations:                   72\n",
      "Model:                 ARIMA(2, 1, 1)   Log Likelihood                -474.710\n",
      "Date:                Sun, 08 Oct 2023   AIC                            957.420\n",
      "Time:                        00:15:20   BIC                            966.471\n",
      "Sample:                             0   HQIC                           961.019\n",
      "                                 - 72                                         \n",
      "Covariance Type:                  opg                                         \n",
      "==============================================================================\n",
      "                 coef    std err          z      P>|z|      [0.025      0.975]\n",
      "------------------------------------------------------------------------------\n",
      "ar.L1          1.1482      0.080     14.358      0.000       0.991       1.305\n",
      "ar.L2         -0.5094      0.117     -4.366      0.000      -0.738      -0.281\n",
      "ma.L1         -0.9993      5.226     -0.191      0.848     -11.242       9.244\n",
      "sigma2       3.57e+04   1.85e+05      0.193      0.847   -3.28e+05    3.99e+05\n",
      "===================================================================================\n",
      "Ljung-Box (L1) (Q):                   0.12   Jarque-Bera (JB):                24.67\n",
      "Prob(Q):                              0.72   Prob(JB):                         0.00\n",
      "Heteroskedasticity (H):               1.08   Skew:                             0.25\n",
      "Prob(H) (two-sided):                  0.86   Kurtosis:                         5.84\n",
      "===================================================================================\n",
      "\n",
      "Warnings:\n",
      "[1] Covariance matrix calculated using the outer product of gradients (complex-step).\n",
      "                               SARIMAX Results                                \n",
      "==============================================================================\n",
      "Dep. Variable:                      y   No. Observations:                   72\n",
      "Model:                 ARIMA(2, 1, 2)   Log Likelihood                -474.305\n",
      "Date:                Sun, 08 Oct 2023   AIC                            958.610\n",
      "Time:                        00:15:20   BIC                            969.924\n",
      "Sample:                             0   HQIC                           963.109\n",
      "                                 - 72                                         \n",
      "Covariance Type:                  opg                                         \n",
      "==============================================================================\n",
      "                 coef    std err          z      P>|z|      [0.025      0.975]\n",
      "------------------------------------------------------------------------------\n",
      "ar.L1          0.9512      0.649      1.466      0.143      -0.321       2.223\n",
      "ar.L2         -0.3605      0.630     -0.573      0.567      -1.594       0.873\n",
      "ma.L1         -0.7355     17.225     -0.043      0.966     -34.496      33.025\n",
      "ma.L2         -0.2642      4.958     -0.053      0.958      -9.983       9.454\n",
      "sigma2      3.536e+04   6.17e+05      0.057      0.954   -1.17e+06    1.24e+06\n",
      "===================================================================================\n",
      "Ljung-Box (L1) (Q):                   0.00   Jarque-Bera (JB):                24.36\n",
      "Prob(Q):                              0.99   Prob(JB):                         0.00\n",
      "Heteroskedasticity (H):               1.09   Skew:                             0.30\n",
      "Prob(H) (two-sided):                  0.84   Kurtosis:                         5.80\n",
      "===================================================================================\n",
      "\n",
      "Warnings:\n",
      "[1] Covariance matrix calculated using the outer product of gradients (complex-step).\n"
     ]
    },
    {
     "name": "stderr",
     "output_type": "stream",
     "text": [
      "/opt/homebrew/Caskroom/miniforge/base/envs/env_base/lib/python3.10/site-packages/statsmodels/tsa/statespace/sarimax.py:978: UserWarning: Non-invertible starting MA parameters found. Using zeros as starting parameters.\n",
      "  warn('Non-invertible starting MA parameters found.'\n"
     ]
    },
    {
     "name": "stdout",
     "output_type": "stream",
     "text": [
      "                               SARIMAX Results                                \n",
      "==============================================================================\n",
      "Dep. Variable:                      y   No. Observations:                   72\n",
      "Model:                 ARIMA(2, 2, 1)   Log Likelihood                -475.555\n",
      "Date:                Sun, 08 Oct 2023   AIC                            959.110\n",
      "Time:                        00:15:20   BIC                            968.104\n",
      "Sample:                             0   HQIC                           962.683\n",
      "                                 - 72                                         \n",
      "Covariance Type:                  opg                                         \n",
      "==============================================================================\n",
      "                 coef    std err          z      P>|z|      [0.025      0.975]\n",
      "------------------------------------------------------------------------------\n",
      "ar.L1          0.4191      0.125      3.358      0.001       0.174       0.664\n",
      "ar.L2         -0.3454      0.156     -2.220      0.026      -0.650      -0.040\n",
      "ma.L1         -1.0000      0.133     -7.535      0.000      -1.260      -0.740\n",
      "sigma2      4.386e+04   3.03e-06   1.45e+10      0.000    4.39e+04    4.39e+04\n",
      "===================================================================================\n",
      "Ljung-Box (L1) (Q):                   0.07   Jarque-Bera (JB):                87.49\n",
      "Prob(Q):                              0.78   Prob(JB):                         0.00\n",
      "Heteroskedasticity (H):               1.11   Skew:                            -1.15\n",
      "Prob(H) (two-sided):                  0.80   Kurtosis:                         7.97\n",
      "===================================================================================\n",
      "\n",
      "Warnings:\n",
      "[1] Covariance matrix calculated using the outer product of gradients (complex-step).\n",
      "[2] Covariance matrix is singular or near-singular, with condition number 3.05e+25. Standard errors may be unstable.\n",
      "                               SARIMAX Results                                \n",
      "==============================================================================\n",
      "Dep. Variable:                      y   No. Observations:                   72\n",
      "Model:                 ARIMA(2, 2, 2)   Log Likelihood                -472.314\n",
      "Date:                Sun, 08 Oct 2023   AIC                            954.627\n",
      "Time:                        00:15:20   BIC                            965.870\n",
      "Sample:                             0   HQIC                           959.093\n",
      "                                 - 72                                         \n",
      "Covariance Type:                  opg                                         \n",
      "==============================================================================\n",
      "                 coef    std err          z      P>|z|      [0.025      0.975]\n",
      "------------------------------------------------------------------------------\n",
      "ar.L1          1.1623      0.096     12.055      0.000       0.973       1.351\n",
      "ar.L2         -0.4952      0.136     -3.634      0.000      -0.762      -0.228\n",
      "ma.L1         -1.9962      0.162    -12.335      0.000      -2.313      -1.679\n",
      "ma.L2          0.9991      0.174      5.751      0.000       0.659       1.340\n",
      "sigma2      3.692e+04   9.11e-06   4.05e+09      0.000    3.69e+04    3.69e+04\n",
      "===================================================================================\n",
      "Ljung-Box (L1) (Q):                   0.10   Jarque-Bera (JB):                29.95\n",
      "Prob(Q):                              0.75   Prob(JB):                         0.00\n",
      "Heteroskedasticity (H):               1.04   Skew:                            -0.08\n",
      "Prob(H) (two-sided):                  0.92   Kurtosis:                         6.20\n",
      "===================================================================================\n",
      "\n",
      "Warnings:\n",
      "[1] Covariance matrix calculated using the outer product of gradients (complex-step).\n",
      "[2] Covariance matrix is singular or near-singular, with condition number 7.88e+25. Standard errors may be unstable.\n"
     ]
    },
    {
     "name": "stderr",
     "output_type": "stream",
     "text": [
      "/opt/homebrew/Caskroom/miniforge/base/envs/env_base/lib/python3.10/site-packages/statsmodels/tsa/statespace/sarimax.py:978: UserWarning: Non-invertible starting MA parameters found. Using zeros as starting parameters.\n",
      "  warn('Non-invertible starting MA parameters found.'\n",
      "/opt/homebrew/Caskroom/miniforge/base/envs/env_base/lib/python3.10/site-packages/statsmodels/base/model.py:604: ConvergenceWarning: Maximum Likelihood optimization failed to converge. Check mle_retvals\n",
      "  warnings.warn(\"Maximum Likelihood optimization failed to \"\n"
     ]
    }
   ],
   "source": [
    "# fit ARIMA model, find best p, d, q\n",
    "# p: lag order\n",
    "# d: degree of differencing\n",
    "# q: order of moving average\n",
    "\n",
    "# p = 1, d = 1, q = 1\n",
    "model = ARIMA(test_past_72hr, order=(1, 1, 1))\n",
    "model_fit = model.fit()\n",
    "print(model_fit.summary())\n",
    "\n",
    "# p = 1, d = 1, q = 2\n",
    "model = ARIMA(test_past_72hr, order=(1, 1, 2))\n",
    "model_fit = model.fit()\n",
    "print(model_fit.summary())\n",
    "\n",
    "# p = 1, d = 2, q = 1\n",
    "model = ARIMA(test_past_72hr, order=(1, 2, 1))\n",
    "model_fit = model.fit()\n",
    "print(model_fit.summary())\n",
    "\n",
    "# p = 1, d = 2, q = 2\n",
    "model = ARIMA(test_past_72hr, order=(1, 2, 2))\n",
    "model_fit = model.fit()\n",
    "print(model_fit.summary())\n",
    "\n",
    "# p = 2, d = 1, q = 1\n",
    "model = ARIMA(test_past_72hr, order=(2, 1, 1))\n",
    "model_fit = model.fit()\n",
    "print(model_fit.summary())\n",
    "\n",
    "# p = 2, d = 1, q = 2\n",
    "model = ARIMA(test_past_72hr, order=(2, 1, 2))\n",
    "model_fit = model.fit()\n",
    "print(model_fit.summary())\n",
    "\n",
    "# p = 2, d = 2, q = 1\n",
    "model = ARIMA(test_past_72hr, order=(2, 2, 1))\n",
    "model_fit = model.fit()\n",
    "print(model_fit.summary())\n",
    "\n",
    "# p = 2, d = 2, q = 2\n",
    "model = ARIMA(test_past_72hr, order=(2, 2, 2))\n",
    "model_fit = model.fit()\n",
    "print(model_fit.summary())\n"
   ]
  },
  {
   "cell_type": "code",
   "execution_count": 157,
   "metadata": {},
   "outputs": [],
   "source": [
    "def next_24_hour(station_complex_id, time_stamp, df):\n",
    "    try:\n",
    "        time_stamp = pd.to_datetime(time_stamp)\n",
    "        df['transit_timestamp'] = pd.to_datetime(df['transit_timestamp'])\n",
    "        one_day = pd.Timedelta(days=1)\n",
    "        one_day_prior = time_stamp + one_day\n",
    "        df_station = df[df['station_complex_id'] == station_complex_id]\n",
    "        df_station_1day = df_station[(df_station['transit_timestamp'] >= time_stamp) & (df_station['transit_timestamp'] < one_day_prior)]\n",
    "        df_station_1day.sort_values('transit_timestamp', ascending=True, inplace=True)\n",
    "        return df_station_1day['ridership'].values\n",
    "    except:\n",
    "        return np.nan\n",
    "\n",
    "ridership_sample['next_24hr_ts'] = ridership_sample.apply(lambda row: next_24_hour(row['station_complex_id'], row['transit_timestamp'], ridership_total), axis=1)\n",
    "\n",
    "test_next_24hr = ridership_sample.iloc[0, :]['next_24hr_ts']"
   ]
  },
  {
   "cell_type": "code",
   "execution_count": 158,
   "metadata": {},
   "outputs": [],
   "source": [
    "ridership_sample.to_csv('data/ridership_sample.csv', index=False)"
   ]
  },
  {
   "cell_type": "code",
   "execution_count": 208,
   "metadata": {},
   "outputs": [
    {
     "data": {
      "text/plain": [
       "[360.3857889355304,\n",
       " 130.47336454930706,\n",
       " 89.76006425162745,\n",
       " 156.19553830788624,\n",
       " 253.4778974206876,\n",
       " 333.55239456406684,\n",
       " 378.3498715695598,\n",
       " 390.66565961179543,\n",
       " 382.69699913584714,\n",
       " 367.2367367093173,\n",
       " 353.11401757603124]"
      ]
     },
     "execution_count": 208,
     "metadata": {},
     "output_type": "execute_result"
    }
   ],
   "source": [
    "# show the next 5 hours for arima(3, 2, 3)\n",
    "model = ARIMA(test_past_72hr, order=(2, 2, 2))\n",
    "model_fit = model.fit()\n",
    "test_pred = model_fit.forecast(steps=11).tolist()\n",
    "test_pred"
   ]
  },
  {
   "cell_type": "code",
   "execution_count": 209,
   "metadata": {},
   "outputs": [
    {
     "data": {
      "text/plain": [
       "[439, 439, 372, 357, 381, 399, 419, 502, 593, 466, 247]"
      ]
     },
     "execution_count": 209,
     "metadata": {},
     "output_type": "execute_result"
    }
   ],
   "source": [
    "ridership_pred_true = []\n",
    "ridership_pred_true.append(ridership_sample.iloc[0, :]['ridership'])\n",
    "ridership_pred_true.extend(ridership_sample.iloc[0, :]['next_24hr_ts'][:10])\n",
    "ridership_pred_true"
   ]
  },
  {
   "cell_type": "code",
   "execution_count": 210,
   "metadata": {},
   "outputs": [
    {
     "data": {
      "text/plain": [
       "[<matplotlib.lines.Line2D at 0x41237b4f0>]"
      ]
     },
     "execution_count": 210,
     "metadata": {},
     "output_type": "execute_result"
    },
    {
     "data": {
      "image/png": "[encoded data removed]",
      "text/plain": [
       "<Figure size 640x480 with 1 Axes>"
      ]
     },
     "metadata": {},
     "output_type": "display_data"
    }
   ],
   "source": [
    "# plot the past 72 hours and the predicted next 6 hours and the real next 6 hours\n",
    "plt.plot(np.arange(0, 72), test_past_72hr)\n",
    "plt.plot(np.arange(72, 83), test_pred, color='red', label='predicted')\n",
    "plt.plot(np.arange(72, 83), ridership_pred_true, color='gray', label='true')"
   ]
  },
  {
   "cell_type": "code",
   "execution_count": 224,
   "metadata": {},
   "outputs": [
    {
     "name": "stdout",
     "output_type": "stream",
     "text": [
      "Mean squared error: 174482.79\n",
      "R2 score: 0.86\n"
     ]
    }
   ],
   "source": [
    "import warnings\n",
    "warnings.filterwarnings('ignore')\n",
    "\n",
    "# check the prediction MSE and R2 on the whole dataset\n",
    "ridership_true = ridership_sample['ridership'].tolist()\n",
    "ridership_pred_arima = []\n",
    "\n",
    "for i in range(ridership_sample.shape[0]):\n",
    "    past_72hr = ridership_sample.iloc[i, :]['last_72hr_ts']\n",
    "    model = ARIMA(past_72hr, order=(3, 2, 3))\n",
    "    model_fit = model.fit()\n",
    "    pred = model_fit.forecast(steps=1).tolist()\n",
    "    ridership_pred_arima.extend(pred)\n",
    "    \n",
    "print('Mean squared error: %.2f' % mean_squared_error(ridership_true, ridership_pred_arima))\n",
    "print('R2 score: %.2f' % r2_score(ridership_true, ridership_pred_arima))"
   ]
  },
  {
   "cell_type": "markdown",
   "metadata": {},
   "source": [
    "Try 120hr"
   ]
  },
  {
   "cell_type": "code",
   "execution_count": 256,
   "metadata": {},
   "outputs": [],
   "source": [
    "def last_120hr_ridership(station_complex_id, time_stamp, df):\n",
    "    try:\n",
    "        time_stamp = pd.to_datetime(time_stamp)\n",
    "        df['transit_timestamp'] = pd.to_datetime(df['transit_timestamp'])\n",
    "        five_days = pd.Timedelta(days=5)\n",
    "        five_days_prior = time_stamp - five_days\n",
    "        df_station = df[df['station_complex_id'] == station_complex_id]\n",
    "        df_station_5days = df_station[(df_station['transit_timestamp'] >= five_days_prior) & (df_station['transit_timestamp'] < time_stamp)]\n",
    "        df_station_5days.sort_values('transit_timestamp', ascending=True, inplace=True)\n",
    "        return df_station_5days['ridership'].values\n",
    "    except:\n",
    "        return np.nan\n",
    "\n",
    "ridership_sample['last_120hr_ts'] = ridership_sample.apply(lambda row: last_120hr_ridership(row['station_complex_id'], row['transit_timestamp'], ridership_total), axis=1)    "
   ]
  },
  {
   "cell_type": "code",
   "execution_count": 259,
   "metadata": {},
   "outputs": [],
   "source": [
    "ridership_sample.to_csv('data/ridership_sample.csv', index=False)"
   ]
  },
  {
   "cell_type": "code",
   "execution_count": 263,
   "metadata": {},
   "outputs": [
    {
     "data": {
      "text/plain": [
       "<matplotlib.legend.Legend at 0x34e551420>"
      ]
     },
     "execution_count": 263,
     "metadata": {},
     "output_type": "execute_result"
    },
    {
     "data": {
      "image/png": "[encoded data removed]",
      "text/plain": [
       "<Figure size 640x480 with 1 Axes>"
      ]
     },
     "metadata": {},
     "output_type": "display_data"
    }
   ],
   "source": [
    "test_past_72hr = ridership_sample.iloc[0, :]['last_72hr_ts']\n",
    "\n",
    "ridership_pred_true = []\n",
    "ridership_pred_true.append(ridership_sample.iloc[0, :]['ridership'])\n",
    "ridership_pred_true.extend(ridership_sample.iloc[0, :]['next_24hr_ts'][:9])\n",
    "\n",
    "arima_model = ARIMA(test_past_72hr, order=(2, 2, 2))\n",
    "arima_model_fit = arima_model.fit()\n",
    "test_pred = arima_model_fit.forecast(steps=10).tolist()\n",
    "\n",
    "# plot the past 72 hours and the predicted next 6 hours and the real next 6 hours\n",
    "plt.plot(np.arange(0, 72), test_past_72hr)\n",
    "plt.plot(np.arange(72, 82), test_pred, color='red', label='predicted')\n",
    "plt.plot(np.arange(72, 82), ridership_pred_true, color='gray', label='true')\n",
    "\n",
    "plt.legend()\n"
   ]
  },
  {
   "cell_type": "code",
   "execution_count": 251,
   "metadata": {},
   "outputs": [
    {
     "data": {
      "text/plain": [
       "[(2, 2, 2, 954.6273168643767),\n",
       " (2, 2, 3, 955.5620870598011),\n",
       " (2, 1, 3, 955.9191452842479),\n",
       " (1, 2, 4, 956.6773306628039),\n",
       " (2, 1, 1, 957.4200926399687),\n",
       " (4, 2, 2, 957.4748174857522),\n",
       " (1, 2, 5, 958.3827315427001),\n",
       " (2, 1, 2, 958.610241014366),\n",
       " (3, 2, 5, 958.8252144712444),\n",
       " (3, 2, 3, 958.8392407942124),\n",
       " (3, 1, 1, 958.8717716474442),\n",
       " (1, 1, 2, 958.8923911740344),\n",
       " (2, 2, 1, 959.1104647248009),\n",
       " (1, 1, 3, 959.3718258788357),\n",
       " (3, 2, 4, 960.0921199173101),\n",
       " (4, 1, 1, 960.2031718268084),\n",
       " (3, 1, 2, 960.4909256593816),\n",
       " (3, 2, 1, 960.7071978624878),\n",
       " (1, 1, 4, 961.0336327131905),\n",
       " (5, 2, 3, 961.3474770101866),\n",
       " (5, 1, 3, 961.36144565617),\n",
       " (4, 2, 1, 961.6540141178028),\n",
       " (3, 1, 5, 961.6698288558073),\n",
       " (1, 2, 2, 961.9083959848531),\n",
       " (5, 1, 1, 962.0912676562472),\n",
       " (3, 1, 3, 962.4823114432173),\n",
       " (4, 1, 3, 962.5026490626021),\n",
       " (4, 2, 3, 962.5679712273281),\n",
       " (1, 1, 5, 962.7976734856098),\n",
       " (4, 1, 2, 962.8200704883604),\n",
       " (5, 2, 1, 962.9256824306925),\n",
       " (3, 2, 2, 962.9271012562085),\n",
       " (2, 1, 4, 963.2477016516975),\n",
       " (1, 2, 1, 963.8476081049706),\n",
       " (1, 2, 3, 963.9222053547674),\n",
       " (5, 1, 2, 964.0138759946313),\n",
       " (2, 1, 5, 964.7746697562251),\n",
       " (4, 1, 4, 965.1913223628449),\n",
       " (5, 2, 2, 965.4083536264689),\n",
       " (2, 2, 4, 965.906469201986),\n",
       " (4, 2, 4, 966.240600129455),\n",
       " (3, 1, 4, 967.0413950919054),\n",
       " (4, 2, 5, 967.3086802579742),\n",
       " (5, 1, 4, 967.5681155914863),\n",
       " (2, 2, 5, 968.4655265388477),\n",
       " (1, 1, 1, 968.9313877441066),\n",
       " (5, 2, 5, 969.7337521709185),\n",
       " (4, 1, 5, 970.0038741533697),\n",
       " (5, 1, 5, 970.8586092329823),\n",
       " (5, 2, 4, 973.0739358538244)]"
      ]
     },
     "execution_count": 251,
     "metadata": {},
     "output_type": "execute_result"
    }
   ],
   "source": [
    "# choose p, d, q based on AIC\n",
    "# do a grid search for p, d, q\n",
    "\n",
    "best_params = []\n",
    "\n",
    "for p in range(1, 6):\n",
    "    for q in range(1, 6):\n",
    "        for d in range(1, 3):\n",
    "            model = ARIMA(test_past_72hr, order=(p, d, q))\n",
    "            model_fit = model.fit()\n",
    "            best_params.append((p, d, q, model_fit.aic))\n",
    "\n",
    "best_params.sort(key=lambda x: x[3])\n",
    "best_params"
   ]
  },
  {
   "cell_type": "code",
   "execution_count": null,
   "metadata": {},
   "outputs": [],
   "source": [
    "# plot the past 72 hours and the predicted next 6 hours and the real next 6 hours\n",
    "plt.plot(np.arange(0, 72), test_past_72hr)\n",
    "plt.plot(np.arange(72, 82), test_pred, color='red', label='predicted')\n",
    "plt.plot(np.arange(72, 82), ridership_pred_true, color='gray', label='true')\n",
    "plt.legend()\n",
    "\n"
   ]
  },
  {
   "cell_type": "code",
   "execution_count": null,
   "metadata": {},
   "outputs": [],
   "source": []
  }
 ],
 "metadata": {
  "kernelspec": {
   "display_name": "env_base",
   "language": "python",
   "name": "python3"
  },
  "language_info": {
   "codemirror_mode": {
    "name": "ipython",
    "version": 3
   },
   "file_extension": ".py",
   "mimetype": "text/x-python",
   "name": "python",
   "nbconvert_exporter": "python",
   "pygments_lexer": "ipython3",
   "version": "3.10.10"
  },
  "orig_nbformat": 4
 },
 "nbformat": 4,
 "nbformat_minor": 2
}
